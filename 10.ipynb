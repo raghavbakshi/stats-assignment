{
 "cells": [
  {
   "cell_type": "code",
   "execution_count": 1,
   "id": "5b241dd4",
   "metadata": {},
   "outputs": [],
   "source": [
    "# 1. A chicken lays n eggs. Each egg independently does or doesn’t hatch, with probability p of hatching. \n",
    "# For each egg that hatches, the chick does or doesn’t survive (independently of the other eggs), with \n",
    "# probability s of survival. Let N ⇠ Bin(n, p) be the number of eggs which hatch, X be the number of \n",
    "# chicks which survive, and Y be the number of chicks which hatch but don’t survive (so X + Y = N). Find \n",
    "# the marginal PMF of X, and the joint PMF of X and Y . Are they independent?\n"
   ]
  },
  {
   "cell_type": "code",
   "execution_count": null,
   "id": "4054489a",
   "metadata": {},
   "outputs": [],
   "source": [
    "A = event when eggs hatched B = event when eggs survived P(S/A) = probabilty of survived eggs given that \n",
    "they hatched --Obvious X = number of chicks which survive, Y = number of chicks which hatch but don’t survive X + Y = N\n",
    "\n",
    "They cant be independent A and B: if X = n, then Y = 0. So they are not independent: P(Y = 0) < 1, while P(Y =0|X = n) = 1.\n",
    "\n",
    "P(X = i, Y = j) = (n! / i!j!(n i j)!) (((ps)**i)(p(1 - s))j) * (1-p)(n-i-j))"
   ]
  }
 ],
 "metadata": {
  "kernelspec": {
   "display_name": "Python 3",
   "language": "python",
   "name": "python3"
  },
  "language_info": {
   "codemirror_mode": {
    "name": "ipython",
    "version": 3
   },
   "file_extension": ".py",
   "mimetype": "text/x-python",
   "name": "python",
   "nbconvert_exporter": "python",
   "pygments_lexer": "ipython3",
   "version": "3.8.8"
  }
 },
 "nbformat": 4,
 "nbformat_minor": 5
}
