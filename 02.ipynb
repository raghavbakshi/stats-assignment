{
 "cells": [
  {
   "cell_type": "code",
   "execution_count": 1,
   "id": "a69993fc",
   "metadata": {},
   "outputs": [],
   "source": [
    "# 1. Raindrops are falling at an average rate of 20 drops per square inch per minute. \n",
    "# What would be a reasonable distribution to use for the number of raindrops hitting a particular\n",
    "# region measuring 5 inches2 in t minutes? Why? Using your chosen distribution, compute the probability\n",
    "# that the region has no rain drops in a given 3 second time interval. A reasonable choice of distribution is P"
   ]
  },
  {
   "cell_type": "code",
   "execution_count": 2,
   "id": "5b933779",
   "metadata": {},
   "outputs": [],
   "source": [
    "# rate_per_squareinch_persecond = 20/60 = 1/3 \n",
    "rate_per_squareinch_persecond = 20/60\n",
    "rate_per_5squareinch_persecond = (20/60)*5\n",
    "# according to question number of drops per 3 seconds per 5 sqaure inches \n",
    "lambda_rate_per_5squareinch_per_3_second = ((20/60)*5)*3\n",
    "e = 2.71828"
   ]
  },
  {
   "cell_type": "code",
   "execution_count": 3,
   "id": "f5678df7",
   "metadata": {},
   "outputs": [
    {
     "data": {
      "text/plain": [
       "0.006737969660615389"
      ]
     },
     "execution_count": 3,
     "metadata": {},
     "output_type": "execute_result"
    }
   ],
   "source": [
    "# P(x=0)\n",
    "import math\n",
    "x = 0\n",
    "prob_no_drop = ((lambda_rate_per_5squareinch_per_3_second**x)*(e**(-lambda_rate_per_5squareinch_per_3_second)))/math.factorial(x)\n",
    "prob_no_drop"
   ]
  },
  {
   "cell_type": "code",
   "execution_count": 4,
   "id": "d3136978",
   "metadata": {},
   "outputs": [],
   "source": [
    "# 2. Let X be a random day of the week, coded so that Monday is 1, Tuesday is 2, etc. \n",
    "# (so X takes values 1, 2,..., 7, with equal probabilities). Let Y be the next day after X\n",
    "# (again represented as an integer between 1 and 7).\n",
    "# Do X and Y have the same distribution? What is P(X)?"
   ]
  },
  {
   "cell_type": "code",
   "execution_count": 6,
   "id": "2874d7c5",
   "metadata": {},
   "outputs": [
    {
     "name": "stdout",
     "output_type": "stream",
     "text": [
      "P(X) = P(Y) = 1/7\n"
     ]
    }
   ],
   "source": [
    "print(\"P(X) = P(Y) = 1/7\")"
   ]
  },
  {
   "cell_type": "code",
   "execution_count": null,
   "id": "ca1503ea",
   "metadata": {},
   "outputs": [],
   "source": []
  }
 ],
 "metadata": {
  "kernelspec": {
   "display_name": "Python 3",
   "language": "python",
   "name": "python3"
  },
  "language_info": {
   "codemirror_mode": {
    "name": "ipython",
    "version": 3
   },
   "file_extension": ".py",
   "mimetype": "text/x-python",
   "name": "python",
   "nbconvert_exporter": "python",
   "pygments_lexer": "ipython3",
   "version": "3.8.8"
  }
 },
 "nbformat": 4,
 "nbformat_minor": 5
}
