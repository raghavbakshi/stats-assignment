{
 "cells": [
  {
   "cell_type": "code",
   "execution_count": 1,
   "id": "5b348037",
   "metadata": {},
   "outputs": [],
   "source": [
    "# 1. A spam filter is designed by looking at commonly occurring phrases in spam. \n",
    "# Suppose that 80% of email is spam. In 10% of the spam emails, the phrase “free money” is used, \n",
    "# whereas this phrase is only used in 1% of non-spam emails. A new email has just arrived, which does mention \n",
    "# “free money”. What is the probability that it is spam?"
   ]
  },
  {
   "cell_type": "code",
   "execution_count": 2,
   "id": "77bda44f",
   "metadata": {},
   "outputs": [],
   "source": [
    "PBA =( 0.1 )\n",
    "PA = .8\n",
    "PB =(( 0.1*0.8) + (.01 * 0.2) )"
   ]
  },
  {
   "cell_type": "code",
   "execution_count": 4,
   "id": "aa5e1759",
   "metadata": {},
   "outputs": [],
   "source": [
    "# To Find\n",
    "# P(A/B) = Probability that email is spam given that it contains \"free money\" = PAB"
   ]
  },
  {
   "cell_type": "code",
   "execution_count": 5,
   "id": "207f0f6f",
   "metadata": {},
   "outputs": [
    {
     "data": {
      "text/plain": [
       "0.975609756097561"
      ]
     },
     "execution_count": 5,
     "metadata": {},
     "output_type": "execute_result"
    }
   ],
   "source": [
    "PAB = (PBA*PA)/PB\n",
    "PAB"
   ]
  },
  {
   "cell_type": "code",
   "execution_count": null,
   "id": "458d7785",
   "metadata": {},
   "outputs": [],
   "source": []
  }
 ],
 "metadata": {
  "kernelspec": {
   "display_name": "Python 3",
   "language": "python",
   "name": "python3"
  },
  "language_info": {
   "codemirror_mode": {
    "name": "ipython",
    "version": 3
   },
   "file_extension": ".py",
   "mimetype": "text/x-python",
   "name": "python",
   "nbconvert_exporter": "python",
   "pygments_lexer": "ipython3",
   "version": "3.8.8"
  }
 },
 "nbformat": 4,
 "nbformat_minor": 5
}
