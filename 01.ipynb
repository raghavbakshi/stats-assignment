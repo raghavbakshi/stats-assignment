{
 "cells": [
  {
   "cell_type": "code",
   "execution_count": 1,
   "id": "6a842877",
   "metadata": {},
   "outputs": [],
   "source": [
    "# 1. Harvard Law School courses often have assigned seating to facilitate the “Socratic method.” \n",
    "# Suppose that there are 100 firstyear Harvard Law students, and each takes two courses: Torts and Contracts. \n",
    "# Both are held in the same lecture hall (which has 100 seats), and the seating is uniformly random and independent\n",
    "# for the two courses.\n",
    "# (a) Find the probability that no one has the same seat for both courses (exactly; you should leave your answer as a sum).\n",
    "# (b) Find a simple but accurate approximation to the probability that no one has the same seat for both courses. \n",
    "# (c) Find a simple but accurate approximation to the probability that at least two students have the same seat \n",
    "# for both courses."
   ]
  },
  {
   "cell_type": "code",
   "execution_count": 3,
   "id": "ccd3428e",
   "metadata": {},
   "outputs": [
    {
     "name": "stdout",
     "output_type": "stream",
     "text": [
      "1.0 2.71828\n"
     ]
    }
   ],
   "source": [
    "e =  2.71828\n",
    "n = 100\n",
    "same_seat_prob = 1/100\n",
    "non_same_seat_prob = 99/100\n",
    "# n is high and same_seat_prob is very less, binomial tends to poisson\n",
    "lambda_value = n*same_seat_prob  #np\n",
    "print(lambda_value,e)"
   ]
  },
  {
   "cell_type": "code",
   "execution_count": 4,
   "id": "8d15eaae",
   "metadata": {},
   "outputs": [
    {
     "name": "stdout",
     "output_type": "stream",
     "text": [
      "0.36787968862663156\n"
     ]
    }
   ],
   "source": [
    "#(a) and (b)\n",
    "import math\n",
    "x = 0     #no one has same seat\n",
    "prob_no_same_seat = ((lambda_value**x)*(e**(-lambda_value)))/math.factorial(x)\n",
    "print(prob_no_same_seat)\n"
   ]
  },
  {
   "cell_type": "code",
   "execution_count": 5,
   "id": "f7cc822f",
   "metadata": {},
   "outputs": [
    {
     "data": {
      "text/plain": [
       "0.2642406227467369"
      ]
     },
     "execution_count": 5,
     "metadata": {},
     "output_type": "execute_result"
    }
   ],
   "source": [
    "#  (c)\n",
    "# P(x>=2) = 1-(P(x<2)= 1-(P(0)+P(1))\n",
    "x = 1\n",
    "prob_1_same_seat = ((lambda_value**x)*(e**(-lambda_value)))/math.factorial(x)\n",
    "prob_atleast_two = 1-(prob_no_same_seat + prob_1_same_seat )   \n",
    "prob_atleast_two"
   ]
  },
  {
   "cell_type": "code",
   "execution_count": 6,
   "id": "a9774e52",
   "metadata": {},
   "outputs": [],
   "source": [
    "# 2. There are 100 passengers lined up to board an airplane with 100 seats (with each seat assigned to one of the passengers).\n",
    "# The first passenger in line crazily decides to sit in a randomly chosen seat (with all seats equally likely).\n",
    "# Each subsequent passenger takes his or her assigned seat if available, and otherwise sits in a random available seat.\n",
    "# What is the probability that the last passenger in line gets to sit in his or her assigned seat?"
   ]
  },
  {
   "cell_type": "code",
   "execution_count": 8,
   "id": "c59611a5",
   "metadata": {},
   "outputs": [
    {
     "name": "stdout",
     "output_type": "stream",
     "text": [
      "The probability that the last person will sit in the correct seat is 1/2.\n"
     ]
    }
   ],
   "source": [
    "print(\"The probability that the last person will sit in the correct seat is 1/2.\")"
   ]
  },
  {
   "cell_type": "code",
   "execution_count": null,
   "id": "78a859ff",
   "metadata": {},
   "outputs": [],
   "source": []
  }
 ],
 "metadata": {
  "kernelspec": {
   "display_name": "Python 3",
   "language": "python",
   "name": "python3"
  },
  "language_info": {
   "codemirror_mode": {
    "name": "ipython",
    "version": 3
   },
   "file_extension": ".py",
   "mimetype": "text/x-python",
   "name": "python",
   "nbconvert_exporter": "python",
   "pygments_lexer": "ipython3",
   "version": "3.8.8"
  }
 },
 "nbformat": 4,
 "nbformat_minor": 5
}
