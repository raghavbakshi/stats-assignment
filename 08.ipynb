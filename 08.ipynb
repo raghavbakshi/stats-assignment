{
 "cells": [
  {
   "cell_type": "code",
   "execution_count": 1,
   "id": "1eea362e",
   "metadata": {},
   "outputs": [],
   "source": [
    "# 1. A crime is committed by one of two suspects, A and B. Initially, there is equal evidence against both of them.\n",
    "# In further investigation at the crime scene, it is found that the guilty party had a blood type found in 10% of \n",
    "# the population. Suspect A does match this blood type, whereas the blood type of Suspect B is unknown. \n",
    "# (a) Given this new information, what is the probability that A is the guilty party? \n",
    "# (b) Given this new information, what is the probability that B’s blood type matches that found at the crime scene?\n"
   ]
  },
  {
   "cell_type": "code",
   "execution_count": 2,
   "id": "b5af6ff7",
   "metadata": {},
   "outputs": [
    {
     "data": {
      "text/plain": [
       "0.9090909090909091"
      ]
     },
     "execution_count": 2,
     "metadata": {},
     "output_type": "execute_result"
    }
   ],
   "source": [
    "PA  = 1/2\n",
    "PB  = 1/2\n",
    "PMA = 1\n",
    "PMB = 10/100\n",
    "PAM = (PMA * PA)/ ((PMA * PA) + (PMB * PB))\n",
    "PAM"
   ]
  },
  {
   "cell_type": "code",
   "execution_count": 3,
   "id": "aa12b99f",
   "metadata": {},
   "outputs": [],
   "source": [
    "# B) Given this new information, what is the probability that B’s blood type matches that found at the crime scene?"
   ]
  },
  {
   "cell_type": "code",
   "execution_count": 4,
   "id": "b3211868",
   "metadata": {},
   "outputs": [
    {
     "data": {
      "text/plain": [
       "0.18181818181818182"
      ]
     },
     "execution_count": 4,
     "metadata": {},
     "output_type": "execute_result"
    }
   ],
   "source": [
    "PB_dash_M = (PMB * PAM) + (1 * (1/11))\n",
    "PB_dash_M"
   ]
  },
  {
   "cell_type": "code",
   "execution_count": null,
   "id": "55ab9a3d",
   "metadata": {},
   "outputs": [],
   "source": []
  }
 ],
 "metadata": {
  "kernelspec": {
   "display_name": "Python 3",
   "language": "python",
   "name": "python3"
  },
  "language_info": {
   "codemirror_mode": {
    "name": "ipython",
    "version": 3
   },
   "file_extension": ".py",
   "mimetype": "text/x-python",
   "name": "python",
   "nbconvert_exporter": "python",
   "pygments_lexer": "ipython3",
   "version": "3.8.8"
  }
 },
 "nbformat": 4,
 "nbformat_minor": 5
}
