{
 "cells": [
  {
   "cell_type": "code",
   "execution_count": 1,
   "id": "17feb240",
   "metadata": {},
   "outputs": [],
   "source": [
    "# 1. Give an example of 3 events A, B, C which are pairwise independent but not independent. \n",
    "# Hint: find an example where whether C occurs is completely determined if we know whether A occurred and whether B\n",
    "# occurred, but completely undetermined if we know only one of these things.\n",
    "# A = first toss is heads (HH,HT) B = second toss is Heads (TH, HH) C = two tosses have the same result (TT,HH)\n",
    "\n"
   ]
  },
  {
   "cell_type": "code",
   "execution_count": 2,
   "id": "66844a1c",
   "metadata": {},
   "outputs": [
    {
     "name": "stdout",
     "output_type": "stream",
     "text": [
      "Clearly A,B, C are dependent events and C is only determined if we know the Occurrence of A and B Both\n"
     ]
    }
   ],
   "source": [
    "print(\"Clearly A,B, C are dependent events and C is only determined if we know the Occurrence of A and B Both\")"
   ]
  },
  {
   "cell_type": "code",
   "execution_count": 5,
   "id": "af8292b9",
   "metadata": {},
   "outputs": [
    {
     "name": "stdout",
     "output_type": "stream",
     "text": [
      "initially : Bag contains either G or B After putting G ball in the bag: Bag Contains GG(2 green balls) or \n",
      "BG(1 blue ball one green ball) After taking out green ball: Bag Contains G(1 green ball : left assuming the bag \n",
      "contains green ball at the start and then green ball already taken out) or B (1 Blue ball left : assuming the bag \n",
      "contains Blue ball at the start and then green ball already taken out) probability of remaing marble is also \n",
      "green: 1 or 0 = 1+0 = 1\n"
     ]
    }
   ],
   "source": [
    "# 2. A bag contains one marble which is either green or blue, with equal probabilities. \n",
    "# A green marble is put in the bag (so there are 2 marbles now), and then a random marble is taken out. \n",
    "# The marble taken out is green. What is the probability that the remaining marble is also green?\n",
    "\n",
    "print(\"\"\"initially : Bag contains either G or B After putting G ball in the bag: Bag Contains GG(2 green balls) or \n",
    "BG(1 blue ball one green ball) After taking out green ball: Bag Contains G(1 green ball : left assuming the bag \n",
    "contains green ball at the start and then green ball already taken out) or B (1 Blue ball left : assuming the bag \n",
    "contains Blue ball at the start and then green ball already taken out) probability of remaing marble is also \n",
    "green: 1 or 0 = 1+0 = 1\"\"\")"
   ]
  },
  {
   "cell_type": "code",
   "execution_count": null,
   "id": "e87d7062",
   "metadata": {},
   "outputs": [],
   "source": []
  }
 ],
 "metadata": {
  "kernelspec": {
   "display_name": "Python 3",
   "language": "python",
   "name": "python3"
  },
  "language_info": {
   "codemirror_mode": {
    "name": "ipython",
    "version": 3
   },
   "file_extension": ".py",
   "mimetype": "text/x-python",
   "name": "python",
   "nbconvert_exporter": "python",
   "pygments_lexer": "ipython3",
   "version": "3.8.8"
  }
 },
 "nbformat": 4,
 "nbformat_minor": 5
}
