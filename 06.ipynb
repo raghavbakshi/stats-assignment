{
 "cells": [
  {
   "cell_type": "code",
   "execution_count": 2,
   "id": "0a0a5a26",
   "metadata": {},
   "outputs": [],
   "source": [
    "# 1. A group of n 2 people decide to play an exciting game of Rock-Paper Scissors. As you may recall,\n",
    "# Rock smashes Scissors, Scissors cuts Paper, and Paper covers Rock (despite Bart Simpson saying “Good old rock, \n",
    "# nothing beats that!”). Usually, this game is played with 2 players, but it can be extended to more players as follows.\n",
    "# If exactly 2 of the 3 choices appear when everyone reveals their choice, say a, b 2 {Rock, P aper, Scissors} where \n",
    "# a beats b, the game is decisive: the players who chose a win, and the players who chose b lose. Otherwise, the \n",
    "# game is indecisive and the players play again. For example, with 5 players, if one player picks Rock, two pick \n",
    "# Scissors, and two pick Paper, the round is indecisive and they play again. But if 3 pick Rock and 2 pick Scissors, \n",
    "# then the Rock players win and the Scissors players lose the game. 1 Assume that the n players independently and \n",
    "# randomly choose between Rock, Scissors, and Paper, with equal probabilities. Let X, Y, Z be the number of players \n",
    "# who pick Rock, Scissors, Paper, respectively in one game. (a) Find the joint PMF of X, Y, Z. (b) Find the probability \n",
    "# that the game is decisive. Simplify your answer (it should not involve a sum of many terms). (c) What is the probability \n",
    "# that the game is decisive for n = 5? What is the limiting probability that a game is decisive as n ! 1? \n",
    "# Explain briefly why your answer makes sense."
   ]
  },
  {
   "cell_type": "code",
   "execution_count": null,
   "id": "26de9089",
   "metadata": {},
   "outputs": [],
   "source": [
    "The joint distribution of X, Y, Z is\n",
    "P(X = a, Y = b, Z = c) = (n!/a!b!c!)*(1/3)^(a+b+c)\n",
    "\n",
    "where a, b, c are any nonnegative integers with a+b+c = n, since (1/3)a+b+c is\n",
    "the probability of any specific configuration of choices for each player with the\n",
    "right numbers in each category, and the coecient in front counts the number\n",
    "of distinct ways to permute such a configuration.\n",
    "Alternatively, we can write the joint PMF as\n",
    "P(X = a, Y = b, Z = c) = P(X = a)P(Y = b|X = a)P(Z = c|X = a, Y = b),\n",
    "where for a + b + c = n, P(X = a) can be found from the Bin(n, 1/3) PMF,\n",
    "P(Y = b|X = a) can be found from the Bin(n  a, 1/2) PMF, and P(Z =\n",
    "c|X = a, Y = b) = 1.\n",
    "This is a Multinomial(n,( 1/3, 1/3, 1/3 )). distribution."
   ]
  }
 ],
 "metadata": {
  "kernelspec": {
   "display_name": "Python 3",
   "language": "python",
   "name": "python3"
  },
  "language_info": {
   "codemirror_mode": {
    "name": "ipython",
    "version": 3
   },
   "file_extension": ".py",
   "mimetype": "text/x-python",
   "name": "python",
   "nbconvert_exporter": "python",
   "pygments_lexer": "ipython3",
   "version": "3.8.8"
  }
 },
 "nbformat": 4,
 "nbformat_minor": 5
}
