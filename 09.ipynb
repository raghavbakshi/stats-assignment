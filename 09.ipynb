{
 "cells": [
  {
   "cell_type": "code",
   "execution_count": 1,
   "id": "83073f3f",
   "metadata": {},
   "outputs": [],
   "source": [
    "# 1. You are going to play 2 games of chess with an opponent whom you have never played against before \n",
    "# (for the sake of this problem). Your opponent is equally likely to be a beginner, intermediate, or a master. Depending on\n",
    "# (a) What is your probability of winning the first game? (b) Congratulations: you won the first game!\n",
    "# Given this information, what is the probability that you will also win the second game\n",
    "# (c) Explain the distinction between assuming that the outcomes of the games are independent and \n",
    "# assuming that they are conditionally independent given the opponent’s skill level. \n",
    "# Which of these assumptions seems more reasonable, and why?\n",
    "\n"
   ]
  },
  {
   "cell_type": "code",
   "execution_count": null,
   "id": "f1cb1f3e",
   "metadata": {},
   "outputs": [],
   "source": [
    "P = your probability of winning the first game S = {(WL),(WW),(LW),(LL)}\n",
    "\n",
    "Your Probability of winning the first game = 2/4\n",
    "\n",
    "(c) Explain the distinction between assuming that the outcomes of the games are independent and assuming \n",
    "that they are conditionally independent given the opponent’s skill level. Which of these assumptions seems more \n",
    "reasonable, and why?\n",
    "\n",
    "Independent could signify outcome of one game doesnt tell anything about the outcome of second game conditional\n",
    "independent signifies probability of game outcome on Opponent skills that is outcome of the first game gives \n",
    "information about the opponents skill and thus can tell outcome of second game and hence second assumption \n",
    "seems more reasonable"
   ]
  }
 ],
 "metadata": {
  "kernelspec": {
   "display_name": "Python 3",
   "language": "python",
   "name": "python3"
  },
  "language_info": {
   "codemirror_mode": {
    "name": "ipython",
    "version": 3
   },
   "file_extension": ".py",
   "mimetype": "text/x-python",
   "name": "python",
   "nbconvert_exporter": "python",
   "pygments_lexer": "ipython3",
   "version": "3.8.8"
  }
 },
 "nbformat": 4,
 "nbformat_minor": 5
}
